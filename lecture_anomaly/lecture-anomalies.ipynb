{
 "cells": [
  {
   "cell_type": "code",
   "execution_count": 1,
   "metadata": {
    "collapsed": true,
    "slideshow": {
     "slide_type": "notes"
    }
   },
   "outputs": [],
   "source": [
    "import pandas as pd\n",
    "import numpy as np\n",
    "import matplotlib.pyplot as plt\n",
    "\n",
    "%matplotlib inline\n",
    "\n",
    "plt.style.use('fivethirtyeight')\n",
    "plt.rcParams['figure.figsize'] = (12,8)\n",
    "\n",
    "# Для кириллицы на графиках\n",
    "font = {'family': 'Verdana',\n",
    "        'weight': 'normal'}\n",
    "plt.rc('font', **font)\n",
    "\n",
    "try:\n",
    "    from ipywidgets import interact, IntSlider, fixed, FloatSlider\n",
    "except ImportError:\n",
    "    print u'Так надо'"
   ]
  },
  {
   "cell_type": "markdown",
   "metadata": {
    "slideshow": {
     "slide_type": "slide"
    }
   },
   "source": [
    "## Quiz Time!"
   ]
  },
  {
   "cell_type": "markdown",
   "metadata": {
    "slideshow": {
     "slide_type": "slide"
    }
   },
   "source": [
    "<center><img src=\"images/header.png\"></center>\n",
    "\n",
    "<h1><center>Алгоритмы интеллектуальной обработки больших объемов данных</center></h1>\n",
    "<hr>\n",
    "<h2><center>Выявление выбросов и аномалий</center></h2>"
   ]
  },
  {
   "cell_type": "markdown",
   "metadata": {
    "slideshow": {
     "slide_type": "subslide"
    }
   },
   "source": [
    "## В предыдущий раз..\n",
    "\n",
    "Мы разговаривали про метод опорных векторов\n",
    "\n",
    "* Линейный классификатор, максимизирующий ширину разделяющей полосы между объектами разных классов\n",
    "* Постановки при жесткой и нежесткой границей между классами\n",
    "* Kernel Trick!\n",
    "\n",
    "<center><img src='images/kernel.png' width=700></center>"
   ]
  },
  {
   "cell_type": "markdown",
   "metadata": {
    "slideshow": {
     "slide_type": "slide"
    }
   },
   "source": [
    "## Anomaly Detection (Выявление аномалий)\n",
    "\n",
    "aka\n",
    "* Outlier detection (выявление выбросов)\n",
    "* Novelty detection (выявление новизны в данных)\n",
    "* Noise detection (выявление шумов в данных)\n",
    "* Deviation detection (выявление отклонений в данных)"
   ]
  },
  {
   "cell_type": "markdown",
   "metadata": {
    "slideshow": {
     "slide_type": "subslide"
    }
   },
   "source": [
    "**Аномалии** - наблюдения, которые отличаются от большинства остальных объектов и не соотносятся с ожидаемой структурой данных\n",
    "\n",
    "Количество аномалий в данных (если они есть) *ничтожно* мало по сравнению с количеством нормальных объектов\n",
    "\n",
    "<center><img src='images/boyfriend.png'></center>"
   ]
  },
  {
   "cell_type": "markdown",
   "metadata": {
    "slideshow": {
     "slide_type": "subslide"
    }
   },
   "source": [
    "### Игрушечный пример\n",
    "\n",
    "<center><img src='images/toy_example.png' width=500></center>\n",
    "Области $N_1$ и  $N_2$ содержат большую часть точек данных. $o_1$, $o_2$ и $O_3$ - выбросы"
   ]
  },
  {
   "cell_type": "markdown",
   "metadata": {
    "slideshow": {
     "slide_type": "subslide"
    }
   },
   "source": [
    "### Жизненные примеры\n",
    "* Мошеннические действия (fraud detection)\n",
    "    * несогласованные операции по кредитным картам, \n",
    "    * взлом аккаунта\n",
    "* Проверка валидности (согласованности) записей базе данных\n",
    "    * ошибки (подтосовки) в сборе данных\n",
    "* Мониторинг стабильности систем\n",
    "    * преждевременное предупреждение сбоя на производстве"
   ]
  },
  {
   "cell_type": "markdown",
   "metadata": {
    "slideshow": {
     "slide_type": "subslide"
    }
   },
   "source": [
    "### [Moscow Data Science Meetup report](https://youtu.be/o5QCVyI0dSA?t=1994)\n",
    "<center><img src='images/kasper.png'></center>"
   ]
  },
  {
   "cell_type": "markdown",
   "metadata": {
    "slideshow": {
     "slide_type": "subslide"
    }
   },
   "source": [
    "### Основные вызовы\n",
    "* Как определить \"нормальность\" и аномальность данных?\n",
    "    * *\"..пропорции условны, а границы размыты\" (c) Геральт из Ривии*\n",
    "* Эволюция понятия \"нормальности\"\n",
    "    * Раньше было нормально за евро отдать 30 рублей...\n",
    "* Адаптация мошенников\n",
    "* Наличие разметки аномальных и \"нормальных\" наблюдений\n",
    "* Зашумление в признаках"
   ]
  },
  {
   "cell_type": "markdown",
   "metadata": {
    "slideshow": {
     "slide_type": "slide"
    }
   },
   "source": [
    "# Типы аномалий"
   ]
  },
  {
   "cell_type": "markdown",
   "metadata": {
    "slideshow": {
     "slide_type": "subslide"
    }
   },
   "source": [
    "## Точечные аномалии\n",
    "* Отдельные наблюдения, отличающиеся от большенства остальных наблюдений\n",
    "* Наиболее распространенный тип аномалий на практике \n",
    "<center><img src='images/toy_example.png' width=400></center>"
   ]
  },
  {
   "cell_type": "markdown",
   "metadata": {
    "slideshow": {
     "slide_type": "subslide"
    }
   },
   "source": [
    "## Контекстные (условные) аномалии\n",
    "* Наблюдения выделяются в заданном контексте (при определенных условиях)\n",
    "* Как задать контекст?\n",
    "    * Время\n",
    "    * Пространство\n",
    "    * Группирующие признаки\n",
    "    * ...\n",
    "\n",
    "<center><img src='images/cont_anomaly.png' width=800></center>"
   ]
  },
  {
   "cell_type": "markdown",
   "metadata": {
    "slideshow": {
     "slide_type": "subslide"
    }
   },
   "source": [
    "## Коллективные (совокупные) аномалии\n",
    "* Связанные аномальные наблюдения\n",
    "* Каждое наблюдение поотдельности может не быть аномалией, но их совместное появление вызывает аномальность\n",
    "\n",
    "<center><img src='images/coll_anomaly.png' width=800></center>"
   ]
  },
  {
   "cell_type": "markdown",
   "metadata": {
    "slideshow": {
     "slide_type": "fragment"
    }
   },
   "source": [
    "Так или иначе можно попытаться трансформировать проблемы выявления аномалий одного типа в другой (например, добавить контекст)"
   ]
  },
  {
   "cell_type": "markdown",
   "metadata": {
    "slideshow": {
     "slide_type": "slide"
    }
   },
   "source": [
    "# Подходы к решению\n",
    "* **Обучение без учителя** \n",
    "    * Меток нет\n",
    "    * Используется некоторое представление о том, что такое аномалия\n",
    "* **Частичное обучение** \n",
    "    * Известны только метки \"нормальных\" данных\n",
    "* **Обучение с учителем**\n",
    "    * Известны метки \"нормальных\" и аномальных данных\n",
    "    \n",
    "    \n",
    "    \n",
    "### Ответы алгоритмов\n",
    "* Скор аномальности\n",
    "* Метка аномальности\n"
   ]
  },
  {
   "cell_type": "markdown",
   "metadata": {
    "slideshow": {
     "slide_type": "slide"
    }
   },
   "source": [
    "# Обучение без учителя\n",
    "\n",
    "## Методы, основанные на кластеризации"
   ]
  },
  {
   "cell_type": "code",
   "execution_count": 2,
   "metadata": {
    "collapsed": true,
    "slideshow": {
     "slide_type": "notes"
    }
   },
   "outputs": [],
   "source": [
    "from sklearn.datasets import make_blobs\n",
    "from sklearn.cluster import DBSCAN"
   ]
  },
  {
   "cell_type": "code",
   "execution_count": 3,
   "metadata": {
    "collapsed": true,
    "slideshow": {
     "slide_type": "notes"
    }
   },
   "outputs": [],
   "source": [
    "def make_toy_outlier(n_samples = 300, outliers_fraction = 0.15):\n",
    "    \n",
    "    n_outliers = int(outliers_fraction * n_samples)\n",
    "    n_inliers = n_samples - n_outliers\n",
    "\n",
    "    np.random.seed(0)\n",
    "\n",
    "    X = make_blobs(centers=[[2, 2], [-2, -2]], cluster_std=[1.5, .3],\n",
    "                   random_state=0, n_samples=n_inliers, n_features=2)[0]\n",
    "    outliers = np.random.uniform(low=-6, high=6,\n",
    "                                 size=(n_outliers, 2))\n",
    "\n",
    "    \n",
    "    return X, outliers\n",
    "\n",
    "def dbscan_demo(eps, minPts):\n",
    "    X, outliers = make_toy_outlier(n_samples = 300, outliers_fraction = 0.15)\n",
    "    X = np.r_[X, outliers]\n",
    "    \n",
    "    model = DBSCAN(eps=eps, min_samples=minPts)\n",
    "    model.fit(X)\n",
    "    \n",
    "    labels = model.labels_\n",
    "    plt.scatter(X[:, 0], X[:, 1], c=labels)\n",
    "    plt.scatter(outliers[:, 0], outliers[:, 1], edgecolors='k', s=200, facecolors='none', linewidths=2)\n",
    "    plt.axis('equal')\n",
    "    plt.show()"
   ]
  },
  {
   "cell_type": "markdown",
   "metadata": {
    "slideshow": {
     "slide_type": "subslide"
    }
   },
   "source": [
    "**Предположение 1**: \"Нормальные\" наблюдения принадлежат некоторому кластеру, а аномальные - нет\n",
    "* DBSCAN\n",
    "* OPTICS\n",
    "* ..."
   ]
  },
  {
   "cell_type": "code",
   "execution_count": 4,
   "metadata": {
    "slideshow": {
     "slide_type": "subslide"
    }
   },
   "outputs": [
    {
     "data": {
      "application/vnd.jupyter.widget-view+json": {
       "model_id": "07b1259d4aeb4b87ab7e34f82e9772dc",
       "version_major": 2,
       "version_minor": 0
      },
      "text/plain": [
       "A Jupyter Widget"
      ]
     },
     "metadata": {},
     "output_type": "display_data"
    },
    {
     "data": {
      "text/plain": [
       "<function __main__.dbscan_demo>"
      ]
     },
     "execution_count": 4,
     "metadata": {},
     "output_type": "execute_result"
    }
   ],
   "source": [
    "interact(dbscan_demo, eps=FloatSlider(min=0.5, max=2.0, step=0.1), minPts=IntSlider(min=2, max=10, step=1))"
   ]
  },
  {
   "cell_type": "code",
   "execution_count": 5,
   "metadata": {
    "collapsed": true,
    "slideshow": {
     "slide_type": "notes"
    }
   },
   "outputs": [],
   "source": [
    "from sklearn.cluster import KMeans\n",
    "from sklearn.metrics import pairwise_distances\n",
    "\n",
    "def demo_kmeans(k=3, dist_type=['abs', 'rel']):\n",
    "    X, outliers = make_toy_outlier(n_samples = 300, outliers_fraction = 0.15)\n",
    "    X = np.r_[X, outliers]\n",
    "    \n",
    "    model = KMeans(n_clusters=k, random_state=0)\n",
    "    model.fit(X)\n",
    "    centers = model.cluster_centers_\n",
    "    labels = model.labels_\n",
    "    \n",
    "    d = np.sqrt(((X - centers[labels])**2).sum(axis=1))\n",
    "    \n",
    "    if dist_type == 'rel':\n",
    "        for c in labels:\n",
    "            d[labels==c] = d[labels==c]/np.median(d[labels==c])    \n",
    "        \n",
    "    sc = plt.scatter(X[:, 0], X[:, 1], c=d)\n",
    "    plt.scatter(outliers[:, 0], outliers[:, 1], edgecolors='k', s=200, facecolors='none', linewidths=2)\n",
    "    plt.scatter(centers[:, 0], centers[:, 1], marker='*', s=300)\n",
    "    plt.axis('equal')\n",
    "    plt.colorbar(sc)\n",
    "    plt.show()"
   ]
  },
  {
   "cell_type": "markdown",
   "metadata": {
    "slideshow": {
     "slide_type": "subslide"
    }
   },
   "source": [
    "**Предположение 2**: \"Нормальные\" наблюдения расплолжены близко к центрам кластеров, а аномалии - далеко\n",
    "* Посчитать (относительное) расстояние до центройдов\n",
    "$$ d_{rel}(x_i, \\mu_{C_j}) = \\frac{d(x_i, \\mu_{C_j})}{median([d(x, \\mu_{C_j}) \\ \\forall x \\in C_j])}, \\quad x_i \\in C_j$$\n",
    "* После кластеризации итеративно удалять объекты, которые сильнее всего портят критерий алгоритма\n",
    "* Удалять далекие (??) кластеры\n",
    "* ..."
   ]
  },
  {
   "cell_type": "code",
   "execution_count": 6,
   "metadata": {
    "slideshow": {
     "slide_type": "subslide"
    }
   },
   "outputs": [
    {
     "data": {
      "application/vnd.jupyter.widget-view+json": {
       "model_id": "9789c5b63acc423083b16b8640beb8a0",
       "version_major": 2,
       "version_minor": 0
      },
      "text/plain": [
       "A Jupyter Widget"
      ]
     },
     "metadata": {},
     "output_type": "display_data"
    },
    {
     "data": {
      "text/plain": [
       "<function __main__.demo_kmeans>"
      ]
     },
     "execution_count": 6,
     "metadata": {},
     "output_type": "execute_result"
    }
   ],
   "source": [
    "interact(demo_kmeans, dist_type=['abs', 'rel'], k=IntSlider(min=2, max=10, step=1))"
   ]
  },
  {
   "cell_type": "markdown",
   "metadata": {
    "slideshow": {
     "slide_type": "subslide"
    }
   },
   "source": [
    "**Предположение 3**: \"Нормальные\" наблюдения принадлежат большим или плотным кластерам, а аномалии к мелким или разреженым\n",
    "* Выполнить кластеризацию\n",
    "* На ее основе посчитать некоторый скор аномальности\n",
    "\n",
    "**Сluster-Based Local Outlier Factor**\n",
    "* Пусть $|C_1|\\geq|C_2|\\geq|C_3|\\dots\\geq|C_K|,\\ \\sum\\limits_i|C_i| = N$\n",
    "* Задаем параметры $\\alpha$ и $\\beta$\n",
    "* На их основе определям группы большых (LC) и маленьких (SC) кластеров:\n",
    "    * $\\sum\\limits_{i=1}^b|C_i| \\geq N*\\alpha$\n",
    "    * $|C_b|\\bigm/|C_{b+1}| \\geq \\beta$\n",
    "* Пусть $x_i \\in C_j$\n",
    "* Eсли $ C_j \\in \\text{SC}$: $CBLOF(x_i) = |C_j| \\cdot \\min\\limits_{C_k \\in LC} d(x_i, C_k) $\n",
    "* Eсли $ C_j \\in \\text{LC}$: $CBLOF(x_i) = |C_j| \\cdot d(x_i, C_j) $"
   ]
  },
  {
   "cell_type": "markdown",
   "metadata": {
    "slideshow": {
     "slide_type": "subslide"
    }
   },
   "source": [
    "**Плюсы**\n",
    "* Скорость работы (в некоторых случаях)\n",
    "* Можно выявлять целые кластеры аномалий\n",
    "\n",
    "**Минусы**\n",
    "* Надо как-то определять параметры эвристик и алгоритмов кластеризации\n",
    "* Выбросы изначально влияют на формирование кластеров"
   ]
  },
  {
   "cell_type": "markdown",
   "metadata": {
    "slideshow": {
     "slide_type": "slide"
    }
   },
   "source": [
    "## Методы, основанные на плотности и расстоянии"
   ]
  },
  {
   "cell_type": "code",
   "execution_count": 7,
   "metadata": {
    "collapsed": true,
    "slideshow": {
     "slide_type": "notes"
    }
   },
   "outputs": [],
   "source": [
    "from sklearn.neighbors import NearestNeighbors\n",
    "\n",
    "def demo_knn(k=3, density=False):\n",
    "    X, outliers = make_toy_outlier(n_samples = 300, outliers_fraction = 0.15)\n",
    "    X = np.r_[X, outliers]\n",
    "    \n",
    "    model = NearestNeighbors(n_neighbors=k)\n",
    "    model.fit(X)\n",
    "        \n",
    "    d, _ = model.kneighbors(X, k+1, return_distance=True)\n",
    "    if density:\n",
    "        d = 1.0/np.mean(d[:, 1:], axis=1)\n",
    "    else:\n",
    "        d = d[:, -1]\n",
    "            \n",
    "    sc = plt.scatter(X[:, 0], X[:, 1], c=d)\n",
    "    plt.scatter(outliers[:, 0], outliers[:, 1], edgecolors='k', s=200, facecolors='none', linewidths=2)\n",
    "    plt.axis('equal')\n",
    "    plt.colorbar(sc)\n",
    "    plt.show()"
   ]
  },
  {
   "cell_type": "markdown",
   "metadata": {
    "slideshow": {
     "slide_type": "subslide"
    }
   },
   "source": [
    "**Предположение 1**: Аномальные объекты расположены далеко от остальных объектов\n",
    "* Считаем расстояние до k-го ближайшего соседа\n",
    "\n",
    "**Предположение 2**: Аномальные объекты расположены в разреженых областях\n",
    "* Считаем плотность аналогично DBSCAN или как обратное от среднего расстояние до $k$ ближайших соседей:\n",
    "$$ density_k(a) = 1 \\Biggm/ \\left(\\frac{\\sum\\limits_{b\\in N_k(a)} d(a, b)}{|N_k(a)|} \\right)$$\n",
    "    * Когда это не взлетит?"
   ]
  },
  {
   "cell_type": "code",
   "execution_count": 8,
   "metadata": {
    "slideshow": {
     "slide_type": "subslide"
    }
   },
   "outputs": [
    {
     "data": {
      "application/vnd.jupyter.widget-view+json": {
       "model_id": "f7f3e3bcd66e45da88b2e6c78f6ea4ba",
       "version_major": 2,
       "version_minor": 0
      },
      "text/plain": [
       "A Jupyter Widget"
      ]
     },
     "metadata": {},
     "output_type": "display_data"
    },
    {
     "data": {
      "text/plain": [
       "<function __main__.demo_knn>"
      ]
     },
     "execution_count": 8,
     "metadata": {},
     "output_type": "execute_result"
    }
   ],
   "source": [
    "interact(demo_knn, k=IntSlider(min=1, max=20, step=1))"
   ]
  },
  {
   "cell_type": "markdown",
   "metadata": {
    "slideshow": {
     "slide_type": "subslide"
    }
   },
   "source": [
    "### Local Outlier Factor\n",
    "* Идея: давайте сравнивать плотность объектов с плотностями их $k$ ближайших соседей\n",
    "* Чтобы повысить стабильность в условии разной плотности будет считать reachability-distance:\n",
    "$$ \\text{reachability-distance}_k(a, b) = \\max\\left(k-\\text{distance}(a), d(a,b) \\right)$$\n",
    "<center><img src='images/reach-dist.png' width=300></center>\n",
    "* Считаем плотность - local reachability density:\n",
    "$$ lrd(a) = 1 \\Biggm/ \\left(\\frac{\\sum\\limits_{b\\in N_k(a)} \\text{reachability-distance}_k(a, b)}{|N_k(a)|} \\right)$$\n",
    "* Сравнивам с соседями:\n",
    "$$LOF_k(a) = \\frac{1}{|N_k(a)|}\\sum\\limits_{b\\in N_k(a)}\\frac{lrd(b)}{lrd(a)}$$"
   ]
  },
  {
   "cell_type": "code",
   "execution_count": 9,
   "metadata": {
    "collapsed": true,
    "scrolled": true,
    "slideshow": {
     "slide_type": "notes"
    }
   },
   "outputs": [],
   "source": [
    "from sklearn.neighbors import LocalOutlierFactor\n",
    "\n",
    "def demo_lof(k=3, contour=False):\n",
    "    X, outliers = make_toy_outlier(n_samples = 300, outliers_fraction = 0.15)\n",
    "    X = np.r_[X, outliers]\n",
    "    \n",
    "    model = LocalOutlierFactor(n_neighbors=k)\n",
    "    model.fit(X)\n",
    "        \n",
    "    lof = abs(model._decision_function(X))\n",
    "    if contour:\n",
    "        xx, yy = np.meshgrid(np.linspace(-6, 6, 500), np.linspace(-6, 6, 500))\n",
    "        Z = abs(model._decision_function(np.c_[xx.ravel(), yy.ravel()]))\n",
    "        Z = Z.reshape(xx.shape)\n",
    "        cont = plt.contourf(xx, yy, Z, cmap=plt.cm.Blues_r, alpha=0.4)\n",
    "            \n",
    "    sc = plt.scatter(X[:, 0], X[:, 1], c=lof)\n",
    "    plt.scatter(outliers[:, 0], outliers[:, 1], edgecolors='k', s=200, facecolors='none', linewidths=2)\n",
    "    plt.axis('equal')\n",
    "    if contour:\n",
    "        plt.colorbar(cont)\n",
    "    else:\n",
    "        plt.colorbar(sc)\n",
    "    plt.show()"
   ]
  },
  {
   "cell_type": "code",
   "execution_count": 10,
   "metadata": {
    "slideshow": {
     "slide_type": "subslide"
    }
   },
   "outputs": [
    {
     "data": {
      "application/vnd.jupyter.widget-view+json": {
       "model_id": "1ce95a980dff48b5b80314d0396c3a34",
       "version_major": 2,
       "version_minor": 0
      },
      "text/plain": [
       "A Jupyter Widget"
      ]
     },
     "metadata": {},
     "output_type": "display_data"
    },
    {
     "data": {
      "text/plain": [
       "<function __main__.demo_lof>"
      ]
     },
     "execution_count": 10,
     "metadata": {},
     "output_type": "execute_result"
    }
   ],
   "source": [
    "interact(demo_lof, k=IntSlider(min=5, max=30, step=1))"
   ]
  },
  {
   "cell_type": "markdown",
   "metadata": {
    "slideshow": {
     "slide_type": "subslide"
    }
   },
   "source": [
    "**Плюсы**\n",
    "* Никаких предположений о природе и распределениях в данных\n",
    "\n",
    "**Минусы**\n",
    "* Скорость работы (можно попытаться ускорить)\n",
    "* Определение адекватной меры близости между объектами"
   ]
  },
  {
   "cell_type": "markdown",
   "metadata": {
    "slideshow": {
     "slide_type": "slide"
    }
   },
   "source": [
    "## Статистические методы"
   ]
  },
  {
   "cell_type": "markdown",
   "metadata": {
    "slideshow": {
     "slide_type": "subslide"
    }
   },
   "source": [
    "**Предположение**: Нормальные объекты порождены некоторым распределением, а аномальные - нет\n",
    "* Обучаем на данных параметры распределения - смотрим мна вероятности\n",
    "<center><img src='images/gauss.png' width=400></center>"
   ]
  },
  {
   "cell_type": "markdown",
   "metadata": {
    "slideshow": {
     "slide_type": "subslide"
    }
   },
   "source": [
    "**Плюсы**\n",
    "* Если предположение верно, то в нашем арсенале есть всякие статистические аргументы (значимость, доверительные интервалы и тп)\n",
    "\n",
    "**Минусы**\n",
    "* Выбросы могут влиять на результат обучения - нужны робастные методы\n",
    "* Выбор закона распределения"
   ]
  },
  {
   "cell_type": "markdown",
   "metadata": {
    "slideshow": {
     "slide_type": "slide"
    }
   },
   "source": [
    "## Методы машинного обучения"
   ]
  },
  {
   "cell_type": "markdown",
   "metadata": {
    "slideshow": {
     "slide_type": "subslide"
    }
   },
   "source": [
    "### Изолирующий лес\n",
    "**Предположение**: Аномальные объекты быстрее изолируются от остальных наблюдений в данных\n",
    "<center><img src='images/isofor.png' width=600></center>"
   ]
  },
  {
   "cell_type": "markdown",
   "metadata": {
    "slideshow": {
     "slide_type": "subslide"
    }
   },
   "source": [
    "Каждое дерево в изолирующем лесу строится по следующим правилам:\n",
    "* Дерево строится на случайной подвыборке заданного размера\n",
    "* В каждой вершине выбирается случайный признак и случайный порог\n",
    "* Дерево строится до максимальной глубины\n",
    "\n",
    "Авторы рекомендуют использовать 256 объектов для обучения каждого дерева и 100 деревьев в лесу"
   ]
  },
  {
   "cell_type": "markdown",
   "metadata": {
    "slideshow": {
     "slide_type": "subslide"
    }
   },
   "source": [
    "Мера аномальности - средняя длина пути по деревьям лесу*\n",
    "<center><img src='images/isofor2.png' width=400></center>"
   ]
  },
  {
   "cell_type": "markdown",
   "metadata": {
    "slideshow": {
     "slide_type": "subslide"
    }
   },
   "source": [
    "* Изолирующее дерево похоже на дерево бинарного поиска (ДБП). \n",
    "* Изоляция объекта равносильна неудачному поиску по ДБП\n",
    "\n",
    "Нормализованный скор аномальности:\n",
    "* $n$ - количество элементов, по которому строилось дерево\n",
    "* $h(x)$ - длина пути по изолирующему дереву для объекта $x$\n",
    "* $E(h(x))$ - средняя длина по всем деревьям в лесу\n",
    "* $c(n) = 2H(n-1) - (2(n-1)/n)$ - средняя длина неудачных поисков в ДБП (deal with it)\n",
    "\n",
    "$$ s(x,n) = 2^{-\\frac{E(h(x))}{c(n)}} $$"
   ]
  },
  {
   "cell_type": "code",
   "execution_count": 11,
   "metadata": {
    "collapsed": true,
    "slideshow": {
     "slide_type": "notes"
    }
   },
   "outputs": [],
   "source": [
    "from sklearn.ensemble import IsolationForest\n",
    "\n",
    "def demo_iso(trees=50, samples=256, contour=False):\n",
    "    X, outliers = make_toy_outlier(n_samples = 300, outliers_fraction = 0.15)\n",
    "    X = np.r_[X, outliers]\n",
    "    \n",
    "    model = IsolationForest(n_estimators=trees, max_samples=samples, random_state=0)\n",
    "    model.fit(X)\n",
    "        \n",
    "    score = model.decision_function(X)\n",
    "    if contour:\n",
    "        xx, yy = np.meshgrid(np.linspace(-6, 6, 500), np.linspace(-6, 6, 500))\n",
    "        Z = model.decision_function(np.c_[xx.ravel(), yy.ravel()])\n",
    "        Z = Z.reshape(xx.shape)\n",
    "        cont = plt.contourf(xx, yy, Z, cmap=plt.cm.Blues_r, alpha=0.4)\n",
    "            \n",
    "    sc = plt.scatter(X[:, 0], X[:, 1], c=score)\n",
    "    plt.scatter(outliers[:, 0], outliers[:, 1], edgecolors='k', s=200, facecolors='none', linewidths=2)\n",
    "    plt.axis('equal')\n",
    "    if contour:\n",
    "        plt.colorbar(cont)\n",
    "    else:\n",
    "        plt.colorbar(sc)\n",
    "    plt.show()"
   ]
  },
  {
   "cell_type": "code",
   "execution_count": 12,
   "metadata": {
    "slideshow": {
     "slide_type": "subslide"
    }
   },
   "outputs": [
    {
     "data": {
      "application/vnd.jupyter.widget-view+json": {
       "model_id": "998404d0f6a5494db231d375e1ce4241",
       "version_major": 2,
       "version_minor": 0
      },
      "text/plain": [
       "A Jupyter Widget"
      ]
     },
     "metadata": {},
     "output_type": "display_data"
    },
    {
     "data": {
      "text/plain": [
       "<function __main__.demo_iso>"
      ]
     },
     "execution_count": 12,
     "metadata": {},
     "output_type": "execute_result"
    }
   ],
   "source": [
    "interact(demo_iso, trees=IntSlider(min=50, max=200, step=25), samples=IntSlider(min=10, max=300, step=10))"
   ]
  },
  {
   "cell_type": "markdown",
   "metadata": {
    "slideshow": {
     "slide_type": "subslide"
    }
   },
   "source": [
    "**Плюсы**\n",
    "* Скорость обучения и предсказания\n",
    "* Небольшие затраты по памяти\n",
    "\n",
    "**Минусы**\n",
    "* ..."
   ]
  },
  {
   "cell_type": "markdown",
   "metadata": {
    "slideshow": {
     "slide_type": "slide"
    }
   },
   "source": [
    "# Методы обучения с учителем\n",
    "* Решается обычная задача классификации (нормальный объект/аномалия)\n",
    "* **Ключевая особенность**: сильный дисбаланс классов"
   ]
  },
  {
   "cell_type": "markdown",
   "metadata": {
    "slideshow": {
     "slide_type": "slide"
    }
   },
   "source": [
    "## Способы балансировки классов\n",
    "* Взвешивание функции потерь\n",
    "$$ \\tilde{L}(X, \\theta) = \\sum_iw_iL(x_i, \\theta) $$\n",
    "Обычно $w_i$ обратно пропорциональны частоте соответствующего класса"
   ]
  },
  {
   "cell_type": "code",
   "execution_count": 13,
   "metadata": {
    "collapsed": true,
    "slideshow": {
     "slide_type": "notes"
    }
   },
   "outputs": [],
   "source": [
    "from sklearn.datasets import make_moons\n",
    "from imblearn.datasets import make_imbalance\n",
    "from sklearn.linear_model import LogisticRegression\n",
    "\n",
    "def demo_weight(class_weight=None, ratio=0.5):\n",
    "\n",
    "    X_, y_ = make_moons(n_samples=500, shuffle=True, noise=0.3, random_state=0)\n",
    "    X, y = make_imbalance(X_, y_, ratio, random_state=0)\n",
    "\n",
    "    model = LogisticRegression(class_weight=class_weight).fit(X, y)\n",
    "    x0, x1 = np.meshgrid(np.linspace(-1, 2.5, 100),\n",
    "                         np.linspace(-2, 2, 100))\n",
    "    xx0, xx1 = x0.ravel(), x1.ravel()\n",
    "\n",
    "    X_grid = np.c_[xx0, xx1]\n",
    "\n",
    "    y_hat = model.decision_function(X_grid)\n",
    "    y_hat = y_hat.reshape(x0.shape)\n",
    "\n",
    "    plt.contour(x0, x1, y_hat, levels=[0])\n",
    "    plt.scatter(X[:,0], \n",
    "                X[:, 1], \n",
    "                c=y, cmap=plt.cm.flag_r)\n",
    "    plt.axis('equal')"
   ]
  },
  {
   "cell_type": "code",
   "execution_count": 14,
   "metadata": {
    "slideshow": {
     "slide_type": "subslide"
    }
   },
   "outputs": [
    {
     "data": {
      "application/vnd.jupyter.widget-view+json": {
       "model_id": "f5b4d17d10cb4b9eaf54fa9105026df2",
       "version_major": 2,
       "version_minor": 0
      },
      "text/plain": [
       "A Jupyter Widget"
      ]
     },
     "metadata": {},
     "output_type": "display_data"
    },
    {
     "data": {
      "text/plain": [
       "<function __main__.demo_weight>"
      ]
     },
     "execution_count": 14,
     "metadata": {},
     "output_type": "execute_result"
    }
   ],
   "source": [
    "interact(demo_weight, class_weight=['balanced', None], ratio=FloatSlider(min=0.05, max=0.5, step=0.05))"
   ]
  },
  {
   "cell_type": "markdown",
   "metadata": {
    "slideshow": {
     "slide_type": "slide"
    }
   },
   "source": [
    "## Способы балансировки классов\n",
    "### Сэмплирование\n",
    "* Under-sampling\n",
    "* Over-sampling\n",
    "* Ensemble methods\n",
    "\n",
    "See  [imbalanced-learn](https://github.com/scikit-learn-contrib/imbalanced-learn)"
   ]
  },
  {
   "cell_type": "markdown",
   "metadata": {
    "slideshow": {
     "slide_type": "subslide"
    }
   },
   "source": [
    "## Under-sampling\n",
    "Убираем представителей доминирующего класса\n",
    "* Случайным образом\n",
    "* Оставить эталонные объекты (ClusterCentroids)\n",
    "* Оставить объекты, наиболее похожие на представителей минорного класса (NearMiss)\n",
    "* Удалить объекты, в окрестности которых есть (много) представителей минорного класса (Edited NN, Condenced NN)"
   ]
  },
  {
   "cell_type": "code",
   "execution_count": 15,
   "metadata": {
    "collapsed": true,
    "slideshow": {
     "slide_type": "notes"
    }
   },
   "outputs": [],
   "source": [
    "from imblearn.under_sampling import NearMiss, RandomUnderSampler, EditedNearestNeighbours, ClusterCentroids, CondensedNearestNeighbour\n",
    "\n",
    "def demo_under(ratio=0.5, sampler=None):\n",
    "\n",
    "    X_, y_ = make_moons(n_samples=500, shuffle=True, noise=0.3, random_state=0)\n",
    "    X, y = make_imbalance(X_, y_, ratio, random_state=0)\n",
    "    \n",
    "    sampler_model = \\\n",
    "              {'rand': RandomUnderSampler(random_state=0),\n",
    "               'cluster': ClusterCentroids(random_state=0),\n",
    "               'editnn': EditedNearestNeighbours(random_state=0),\n",
    "               'condnn': CondensedNearestNeighbour(random_state=0),\n",
    "               'nearmiss': NearMiss(random_state=0, version=2)}.get(sampler)\n",
    "    \n",
    "    if sampler:\n",
    "        X, y = sampler_model.fit_sample(X, y)\n",
    "\n",
    "    model = LogisticRegression(class_weight=None).fit(X, y)\n",
    "    x0, x1 = np.meshgrid(np.linspace(-1, 2.5, 100),\n",
    "                         np.linspace(-2, 2, 100))\n",
    "    xx0, xx1 = x0.ravel(), x1.ravel()\n",
    "\n",
    "    X_grid = np.c_[xx0, xx1]\n",
    "\n",
    "    y_hat = model.decision_function(X_grid)\n",
    "    y_hat = y_hat.reshape(x0.shape)\n",
    "\n",
    "    plt.contour(x0, x1, y_hat, levels=[0])\n",
    "    plt.scatter(X[:,0], \n",
    "                X[:, 1], \n",
    "                c=y, cmap=plt.cm.flag_r)\n",
    "    plt.axis('equal')"
   ]
  },
  {
   "cell_type": "code",
   "execution_count": 16,
   "metadata": {
    "slideshow": {
     "slide_type": "subslide"
    }
   },
   "outputs": [
    {
     "data": {
      "application/vnd.jupyter.widget-view+json": {
       "model_id": "015fc53cc959480b9603951f0e776a3c",
       "version_major": 2,
       "version_minor": 0
      },
      "text/plain": [
       "A Jupyter Widget"
      ]
     },
     "metadata": {},
     "output_type": "display_data"
    },
    {
     "data": {
      "text/plain": [
       "<function __main__.demo_under>"
      ]
     },
     "execution_count": 16,
     "metadata": {},
     "output_type": "execute_result"
    }
   ],
   "source": [
    "interact(demo_under, ratio=FloatSlider(min=0.05, max=0.5, step=0.05), sampler=[None, 'rand', 'cluster', 'editnn', 'condnn', 'nearmiss'])"
   ]
  },
  {
   "cell_type": "markdown",
   "metadata": {
    "slideshow": {
     "slide_type": "subslide"
    }
   },
   "source": [
    "## Over sampling\n",
    "Генерируем представителей минорного класса\n",
    "* Случайным образом из существующих\n",
    "* Синтетически, на основе существующих\n"
   ]
  },
  {
   "cell_type": "markdown",
   "metadata": {
    "slideshow": {
     "slide_type": "subslide"
    }
   },
   "source": [
    "## SMOTE\n",
    "### Synthetic Minority Over-sampling Technique\n",
    "* Для каждого представителя минорного класса найте $k$ ближайших соседей\n",
    "* Выбрать одного из соседей\n",
    "* Сгенерировать новый объект, расположеный между ними\n",
    "\n",
    "<center><img src='images/smote.png' width=400></center>"
   ]
  },
  {
   "cell_type": "code",
   "execution_count": 17,
   "metadata": {
    "collapsed": true,
    "slideshow": {
     "slide_type": "notes"
    }
   },
   "outputs": [],
   "source": [
    "from imblearn.over_sampling import SMOTE, RandomOverSampler\n",
    "\n",
    "def demo_over(ratio=0.5, sampler=None):\n",
    "\n",
    "    X_, y_ = make_moons(n_samples=500, shuffle=True, noise=0.3, random_state=0)\n",
    "    X, y = make_imbalance(X_, y_, ratio, random_state=0)\n",
    "    \n",
    "    sampler_model = \\\n",
    "              {'rand': RandomOverSampler(random_state=0),\n",
    "               'smote': SMOTE(),\n",
    "               }.get(sampler)\n",
    "    \n",
    "    if sampler:\n",
    "        X, y = sampler_model.fit_sample(X, y)\n",
    "\n",
    "    model = LogisticRegression(class_weight=None).fit(X, y)\n",
    "    x0, x1 = np.meshgrid(np.linspace(-1, 2.5, 100),\n",
    "                         np.linspace(-2, 2, 100))\n",
    "    xx0, xx1 = x0.ravel(), x1.ravel()\n",
    "\n",
    "    X_grid = np.c_[xx0, xx1]\n",
    "\n",
    "    y_hat = model.decision_function(X_grid)\n",
    "    y_hat = y_hat.reshape(x0.shape)\n",
    "\n",
    "    plt.contour(x0, x1, y_hat, levels=[0])\n",
    "    plt.scatter(X[:,0], \n",
    "                X[:, 1], \n",
    "                c=y, cmap=plt.cm.flag_r)\n",
    "    plt.axis('equal')"
   ]
  },
  {
   "cell_type": "code",
   "execution_count": 18,
   "metadata": {
    "slideshow": {
     "slide_type": "subslide"
    }
   },
   "outputs": [
    {
     "data": {
      "application/vnd.jupyter.widget-view+json": {
       "model_id": "012f4a476ec845e69e136d7ff01d2fdd",
       "version_major": 2,
       "version_minor": 0
      },
      "text/plain": [
       "A Jupyter Widget"
      ]
     },
     "metadata": {},
     "output_type": "display_data"
    },
    {
     "data": {
      "text/plain": [
       "<function __main__.demo_over>"
      ]
     },
     "execution_count": 18,
     "metadata": {},
     "output_type": "execute_result"
    }
   ],
   "source": [
    "interact(demo_over, ratio=FloatSlider(min=0.05, max=0.5, step=0.05), sampler=[None, 'rand', 'smote'])"
   ]
  },
  {
   "cell_type": "markdown",
   "metadata": {
    "slideshow": {
     "slide_type": "slide"
    }
   },
   "source": [
    "## Ансамблевые методы\n",
    "### Easy Ensemble\n",
    "\n",
    "* Подход, похожий на бэггинг\n",
    "* Но всмето простого сэмплирования с возвратом делаем случайной сбалансированное сэмплирование"
   ]
  },
  {
   "cell_type": "markdown",
   "metadata": {
    "slideshow": {
     "slide_type": "slide"
    }
   },
   "source": [
    "# Методы частичного обучения\n",
    "## One-class SVM"
   ]
  },
  {
   "cell_type": "markdown",
   "metadata": {
    "slideshow": {
     "slide_type": "subslide"
    }
   },
   "source": [
    "### Две постановки задачи\n",
    "\n",
    "* **Support Vector Data Description**:\n",
    "Хотим загнать наши данные в сферу радиуса $R$ c центром в точке $a$\n",
    "$$\n",
    "\\begin{cases} \n",
    "   R^2 + C\\sum\\limits_i\\xi_i  \\rightarrow \\min\\limits_{R,a,\\xi} \\\\\n",
    "   \\|\\psi(x^{(i)}) - a\\|^2 \\leq R^2 + \\xi_i \\quad i=1\\dots n \\\\\n",
    "   \\xi_i \\geq 0 \\quad i=1\\dots n\n",
    "\\end{cases}\n",
    "$$\n",
    "\n",
    "<center><img src='images/svmdescr.jpg' width=400></center>"
   ]
  },
  {
   "cell_type": "markdown",
   "metadata": {
    "slideshow": {
     "slide_type": "subslide"
    }
   },
   "source": [
    "* **One Class SVM**: Хотим отделить данные в пространстве $H=\\psi{(X)}$ от начала координат\n",
    "$$\n",
    "\\begin{cases} \n",
    "  \\frac{1}{2} ||w||^2 + C\\sum\\limits_i\\xi_i - \\rho \\rightarrow \\min\\limits_{w,\\rho,\\xi} \\\\\n",
    "   (\\langle w, \\psi(x^{(i)}) \\rangle) \\geq \\rho -\\xi_i \\quad i=1\\dots n \\\\\n",
    "   \\xi_i \\geq 0 \\quad i=1\\dots n\n",
    "\\end{cases}\n",
    "$$\n",
    "\n",
    "<center><img src='images/ocsvm.png' width=400></center>\n",
    "\n",
    "Оказываются эквивалентны, если $k(u, v)$ - RBF ядро =\\\n"
   ]
  },
  {
   "cell_type": "code",
   "execution_count": 19,
   "metadata": {
    "collapsed": true,
    "slideshow": {
     "slide_type": "notes"
    }
   },
   "outputs": [],
   "source": [
    "from sklearn.svm import OneClassSVM\n",
    "\n",
    "def demo_ocsvm(gamma=0.2, contour=False):\n",
    "    X, outliers = make_toy_outlier(n_samples = 300, outliers_fraction = 0.15)\n",
    "    X = np.r_[X, outliers]\n",
    "    \n",
    "    model = OneClassSVM(gamma=gamma)\n",
    "    model.fit(X)\n",
    "        \n",
    "    score = model.decision_function(X)[:,0]\n",
    "    if contour:\n",
    "        xx, yy = np.meshgrid(np.linspace(-6, 6, 500), np.linspace(-6, 6, 500))\n",
    "        Z = model._decision_function(np.c_[xx.ravel(), yy.ravel()])\n",
    "        Z = Z.reshape(xx.shape)\n",
    "        cont = plt.contourf(xx, yy, Z, cmap=plt.cm.Blues_r, alpha=0.4)\n",
    "            \n",
    "    sc = plt.scatter(X[:, 0], X[:, 1], c=score)\n",
    "    plt.scatter(outliers[:, 0], outliers[:, 1], edgecolors='k', s=200, facecolors='none', linewidths=2)\n",
    "    plt.axis('equal')\n",
    "    if contour:\n",
    "        plt.colorbar(cont)\n",
    "    else:\n",
    "        plt.colorbar(sc)\n",
    "    plt.show()"
   ]
  },
  {
   "cell_type": "code",
   "execution_count": 20,
   "metadata": {
    "slideshow": {
     "slide_type": "subslide"
    }
   },
   "outputs": [
    {
     "data": {
      "application/vnd.jupyter.widget-view+json": {
       "model_id": "2f8d0fa78e7d415d96f459a015e0c0b4",
       "version_major": 2,
       "version_minor": 0
      },
      "text/plain": [
       "A Jupyter Widget"
      ]
     },
     "metadata": {},
     "output_type": "display_data"
    },
    {
     "data": {
      "text/plain": [
       "<function __main__.demo_ocsvm>"
      ]
     },
     "execution_count": 20,
     "metadata": {},
     "output_type": "execute_result"
    }
   ],
   "source": [
    "interact(demo_ocsvm, gamma=FloatSlider(min=0.1, max=2, step=0.05))"
   ]
  },
  {
   "cell_type": "markdown",
   "metadata": {
    "slideshow": {
     "slide_type": "slide"
    }
   },
   "source": [
    "## Вопросы?\n",
    "\n",
    "## Оставьте, пожалуйста, свой отзыв"
   ]
  }
 ],
 "metadata": {
  "anaconda-cloud": {},
  "celltoolbar": "Slideshow",
  "kernelspec": {
   "display_name": "Python [conda root]",
   "language": "python",
   "name": "conda-root-py"
  },
  "language_info": {
   "codemirror_mode": {
    "name": "ipython",
    "version": 2
   },
   "file_extension": ".py",
   "mimetype": "text/x-python",
   "name": "python",
   "nbconvert_exporter": "python",
   "pygments_lexer": "ipython2",
   "version": "2.7.14"
  },
  "livereveal": {
   "theme": "serif",
   "transition": "concave",
   "width": "1024px"
  },
  "toc": {
   "colors": {
    "hover_highlight": "#DAA520",
    "navigate_num": "#000000",
    "navigate_text": "#333333",
    "running_highlight": "#FF0000",
    "selected_highlight": "#FFD700",
    "sidebar_border": "#EEEEEE",
    "wrapper_background": "#FFFFFF"
   },
   "moveMenuLeft": true,
   "nav_menu": {
    "height": "365px",
    "width": "253px"
   },
   "navigate_menu": true,
   "number_sections": false,
   "sideBar": true,
   "threshold": 4,
   "toc_cell": false,
   "toc_section_display": "block",
   "toc_window_display": false,
   "widenNotebook": false
  }
 },
 "nbformat": 4,
 "nbformat_minor": 2
}
