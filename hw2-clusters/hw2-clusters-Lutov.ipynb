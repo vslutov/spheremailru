{
 "cells": [
  {
   "cell_type": "markdown",
   "metadata": {},
   "source": [
    "# Алгоритмы интеллектуальной обработки больших объемов данных\n",
    "## Домашнее задание №2 - Алгоритмы кластеризации\n"
   ]
  },
  {
   "cell_type": "markdown",
   "metadata": {},
   "source": [
    "###### <hr\\>\n",
    "**Общая информация**\n",
    "\n",
    "**Срок сдачи:** 23 октября 2017, 06:00 <br\\>\n",
    "**Штраф за опоздание:** -2 балла после 06:00 23 октября, -4 балла после 06:00 30 октября, -6 баллов после 06:00 6 ноября\n",
    "\n",
    "При отправлении ДЗ указывайте фамилию в названии файла\n",
    "Присылать ДЗ необходимо в виде ссылки на свой github репозиторий в slack @alkhamush Необходимо в slack создать таск в приватный чат:\n",
    "/todo Фамилия Имя ссылка на гитхаб @alkhamush\n",
    "Пример:\n",
    "/todo Ксения Стройкова https://github.com/stroykova/spheremailru/stroykova_hw1.ipynb @alkhamush\n",
    "\n",
    "Используйте данный Ipython Notebook при оформлении домашнего задания.\n",
    "<hr\\>"
   ]
  },
  {
   "cell_type": "markdown",
   "metadata": {},
   "source": [
    "###### Задание 1 (4 балла)\n",
    "Реализовать алгоритм кластеризации, который относится к вашему варианту. Проверить работоспособность алгоритма на \"Iris\". Сравните свой алгоритм кластеризации с алгоритмом из scikit-learn по времени выполнения, использую timeit. Ваша реализация не должна работать сильно дольше, а в идеале должна быть даже немного быстрее.\n",
    "\n",
    "###### Задание 2 (2 балла)\n",
    "Выбрать, имплементировать и использовать критерий качества\n",
    "\n",
    "###### Задание 3 (3балла)\n",
    "Применить алгоритм кластеризации к данным по странам.   \n",
    "Подход следующий: фиксируем год, для каждой страны берём индикаторы по зафиксированному году, кластеризуем по индикаторам.   \n",
    "Разбиение должно быть объяснимым, в противном случае, скорее всего нужно лучше настроить параметры кластеризации.   \n",
    "Данные нужно скачать тут https://data.worldbank.org/data-catalog/world-development-indicators.   \n",
    "Также необходимо показать, какие страны попали в общий кластер.\n",
    "изуализировать результат с помощью T-SNE. Внимание! На полном объеме данных данный алгоритм может работать существенное время.\n",
    "\n",
    "###### Задание 4 (1 балл)\n",
    "Опишите в выводе почему и какие страны попали в общий кластер."
   ]
  },
  {
   "cell_type": "markdown",
   "metadata": {},
   "source": [
    "Основная задача этого задания - реализация одного из алгоритмов кластеризации. Кроме того, мы научимся подбирать параметры алгоритма, визуализируем результат кластеризации и попытаемся проанализировать природу полученных кластеров."
   ]
  },
  {
   "cell_type": "code",
   "execution_count": 1,
   "metadata": {},
   "outputs": [
    {
     "name": "stdout",
     "output_type": "stream",
     "text": [
      "Populating the interactive namespace from numpy and matplotlib\n"
     ]
    }
   ],
   "source": [
    "from itertools import count\n",
    "\n",
    "import pandas as pd\n",
    "import pylab as pl\n",
    "import numpy as np\n",
    "import scipy.spatial as ss\n",
    "import sklearn.cluster as sc\n",
    "import sklearn.manifold as sm\n",
    "import sklearn.datasets as ds\n",
    "import sklearn.metrics as smt\n",
    "\n",
    "import matplotlib.pyplot as plt\n",
    "import mpl_toolkits.basemap as bm\n",
    "\n",
    "%matplotlib inline\n",
    "\n",
    "plt.style.use('ggplot')\n",
    "plt.rcParams['figure.figsize'] = (12,5)\n",
    "\n",
    "# Plotting config\n",
    "%pylab inline"
   ]
  },
  {
   "cell_type": "markdown",
   "metadata": {},
   "source": [
    "## Реализация алгоритма"
   ]
  },
  {
   "cell_type": "markdown",
   "metadata": {},
   "source": [
    "Алгоритм кластеризации, который необходимо реализовать, выбирается на основании Вашего порядкового номера в списке группы."
   ]
  },
  {
   "cell_type": "code",
   "execution_count": 2,
   "metadata": {
    "collapsed": true
   },
   "outputs": [],
   "source": [
    "N = 33 # put your index here"
   ]
  },
  {
   "cell_type": "code",
   "execution_count": 3,
   "metadata": {},
   "outputs": [
    {
     "name": "stdout",
     "output_type": "stream",
     "text": [
      "Реализуем алгоритм кластеризации 'Gaussian Mixture Model с использованием maximum a-posteriori для выбора кластера (параметр - k)'\n"
     ]
    }
   ],
   "source": [
    "algorithms = [\n",
    "    u\"Gaussian Mixture Model с использованием maximum a-posteriori для выбора кластера (параметр - k)\",\n",
    "    u\"Hierarchical clustering с поддержкой single-linkage, complete-linkage, average-linkage (параметры - k, linkage)\",\n",
    "    u\"DBSCAN. (параметры - epsilon, min_pts)\"\n",
    "]\n",
    "\n",
    "my_algorithm = algorithms[N % len(algorithms)]\n",
    "print(u\"Реализуем алгоритм кластеризации '%s'\" % my_algorithm)"
   ]
  },
  {
   "cell_type": "code",
   "execution_count": 4,
   "metadata": {
    "collapsed": true
   },
   "outputs": [],
   "source": [
    "## Задание 1\n",
    "from sklearn.base import BaseEstimator, ClusterMixin\n",
    "\n",
    "def norm_distance(X, mu, sigma):\n",
    "    # print(sigma)\n",
    "    inv_sigma = np.linalg.pinv(sigma)\n",
    "    result = np.tensordot(X - mu, inv_sigma, axes=[[1], [0]])\n",
    "    return np.sum(result * (X - mu), axis=1)\n",
    "    \n",
    "\n",
    "def norm_loss(X, mu, sigma):\n",
    "    d = X.shape[1]\n",
    "    distance = norm_distance(X, mu, sigma)\n",
    "    sign, logdet = np.linalg.slogdet(sigma)\n",
    "    return -distance - logdet\n",
    "    \n",
    "def softmax(a):\n",
    "    a = np.array(a)\n",
    "    a -= a.max(axis=0)\n",
    "    a = np.exp(a)\n",
    "    a /= np.sum(a, axis=0)[np.newaxis, :]\n",
    "    return a\n",
    "\n",
    "def norm_loglihood(X, mu, sigma, pi):\n",
    "    return np.array([norm_loss(X, _mu, _sigma) * _pi for _mu, _sigma, _pi in zip(mu, sigma, pi)])\n",
    "\n",
    "class Clustering(BaseEstimator, ClusterMixin):\n",
    "    \"\"\"\n",
    "    Implement clustering algorithm according\n",
    "    \"\"\"\n",
    "    \n",
    "    def __init__(self, k, random_state=None, eps=1e-2):\n",
    "        \"\"\"\n",
    "        Please add necessary algoritm parameters to class constructor.\n",
    "        \"\"\"\n",
    "        self.k = k\n",
    "        self.random_state = random_state\n",
    "        self.eps = eps\n",
    "        self.checkpoint = None\n",
    "        self.mean = None\n",
    "        self.std = None\n",
    "        return\n",
    "    \n",
    "    def init_params(self, X):\n",
    "        self.mu = [X[np.random.randint(0, X.shape[0])]]\n",
    "        for i in range(1, self.k):\n",
    "            cumsum = np.cumsum(ss.distance.cdist(X, self.mu, metric='sqeuclidean').min(axis=1))\n",
    "            index = (cumsum >= np.random.random() * cumsum[-1]).tolist().index(True)\n",
    "            self.mu.append(X[index])\n",
    "            \n",
    "        self.mu = np.array(self.mu)\n",
    "        self.pi = np.ones(self.k) / self.k\n",
    "        \n",
    "        X_minus_mu = X[np.newaxis, :, :] - self.mu[:, np.newaxis, :]\n",
    "        self.sigma = X_minus_mu[:, :, np.newaxis, :] * X_minus_mu[:, :, :, np.newaxis]\n",
    "        self.sigma = self.sigma.mean(axis=1)\n",
    "        \n",
    "        return self\n",
    "        \n",
    "    def fit(self, X, y=None):\n",
    "        \"\"\"\n",
    "        Use data matrix x to compute model parameters\n",
    "        \"\"\"\n",
    "        # X = np.array(X)\n",
    "        # print(X.shape)\n",
    "        # X = np.unique(X, axis=0)\n",
    "        # print(X.shape)\n",
    "        self.mean = X.mean(axis=0)\n",
    "        X -= self.mean\n",
    "        self.std = X.std(axis=0)\n",
    "        X /= self.std\n",
    "        # print(X.std(axis=0))\n",
    "        \n",
    "        \n",
    "        np.random.seed(self.random_state)\n",
    "        self.init_params(X)\n",
    "        \n",
    "        for step in count(1):\n",
    "            self.make_checkpoint()\n",
    "            \n",
    "            # E\n",
    "            aposteriori = softmax(norm_loglihood(X, self.mu, self.sigma, self.pi)).T\n",
    "            # print(aposteriori)\n",
    "            # M\n",
    "            N = np.sum(aposteriori, axis=0)\n",
    "            self.mu = np.sum(aposteriori[:, :, np.newaxis] * X[:, np.newaxis, :], axis=0)\n",
    "            self.mu /= N[:, np.newaxis]\n",
    "\n",
    "            self.sigma = X[np.newaxis] - self.mu[:, np.newaxis, :]\n",
    "            self.sigma *= aposteriori.T[:, :, np.newaxis]\n",
    "            self.sigma = np.array([np.tensordot(self.sigma[i], X - self.mu[i], axes=[[0], [0]])\n",
    "                                   for i in range(self.k)])\n",
    "            self.sigma /= N[:, np.newaxis, np.newaxis]\n",
    "            \n",
    "            \"\"\"\n",
    "            for sigma in self.sigma:\n",
    "                # print(sigma)\n",
    "                print(np.log(np.abs(np.linalg.det(sigma))))\n",
    "                if np.log(np.abs(np.linalg.det(sigma))) <= -10:\n",
    "                    print(\"Det sigma = 0, step\", step)\n",
    "                    self.restore_checkpoint()\n",
    "                    return self\n",
    "            \"\"\"\n",
    "\n",
    "            self.pi = N / N.sum()\n",
    "            \n",
    "            loss = self.loss(X)\n",
    "            \n",
    "            if step < 4:\n",
    "                pass\n",
    "            elif prev_loss < loss - self.eps:\n",
    "                # print(\"Grouth loss, step\", step)\n",
    "\n",
    "                self.restore_checkpoint()\n",
    "                return self\n",
    "            elif prev_loss <= loss + self.eps:\n",
    "                break\n",
    "            \n",
    "            prev_loss = loss\n",
    "        \n",
    "        return self\n",
    "    \n",
    "    def predict(self, X):\n",
    "        \"\"\"\n",
    "        Using computed model parameters predict cluster\n",
    "        for all objects from x\n",
    "        \"\"\"\n",
    "        X = X.copy()\n",
    "        X -= self.mean\n",
    "        X *= self.std\n",
    "        dzeta = norm_loglihood(X, self.mu, self.sigma, self.pi)\n",
    "        return np.argmax(dzeta, axis=0)\n",
    "    \n",
    "    def fit_predict(self, x, y=None):\n",
    "        self.fit(x, y)\n",
    "        return self.predict(x)\n",
    "    \n",
    "    def loss(self, X, y=None):\n",
    "        \n",
    "        # result = norm_distance(X, self.mu, self.sigma, self.pi)\n",
    "        result = np.array([norm_distance(X, mu, sigma) for mu, sigma in zip(self.mu, self.sigma)])\n",
    "        return -result[:, result.argmin(axis=0)].sum()\n",
    "        return (((X - self.mu[self.predict(X)]) / X.std(axis=0)[np.newaxis]) ** 2).sum(axis=1).mean()\n",
    "        return norm_loglihood(X, self.mu, self.sigma, self.pi).sum() \n",
    "    \n",
    "    def make_checkpoint(self):\n",
    "        self.checkpoint = self.mu, self.sigma, self.pi\n",
    "    \n",
    "    def restore_checkpoint(self):\n",
    "        self.mu, self.sigma, self.pi = self.checkpoint"
   ]
  },
  {
   "cell_type": "markdown",
   "metadata": {},
   "source": [
    "Алгоритм кластеризации должен удовлетворять следующему интерфейсу. Конструктор принимает набор параметров, необходимых для работы алгоритма кластеризации. Метод `fit` подсчитывает параметры модели и возвращает `self`. Метод `predict` возвращает вектор с индексами кластеров для поданных в него объектов `x`"
   ]
  },
  {
   "cell_type": "markdown",
   "metadata": {},
   "source": [
    "Сначала проверим реализованный алгоритм кластеризации на классическом наборе данных [Iris](http://www.wikiwand.com/en/Iris_flower_data_set). Загрузим данные (они включены в библиотеку sklearn) и посмотрим на то, как они выглядят в двух проекциях (для простоты используем 2 класса из 3)."
   ]
  },
  {
   "cell_type": "code",
   "execution_count": 5,
   "metadata": {},
   "outputs": [
    {
     "data": {
      "image/png": "[encoded data removed]",
      "text/plain": [
       "<matplotlib.figure.Figure at 0x7f5d85feba90>"
      ]
     },
     "metadata": {},
     "output_type": "display_data"
    }
   ],
   "source": [
    "iris = ds.load_iris()\n",
    "x_iris = iris.data[:100]\n",
    "y_iris = iris.target[:100]\n",
    "\n",
    "pl.figure(figsize=(10, 5))\n",
    "\n",
    "pl.subplot(1, 2, 1)\n",
    "pl.scatter(x_iris[:, 0], x_iris[:, 1], c=y_iris, cmap=pl.cm.PuOr, lw=0, s=30)\n",
    "plt.xlabel('Sepal length')\n",
    "plt.ylabel('Sepal width')\n",
    "\n",
    "pl.subplot(1, 2, 2)\n",
    "pl.scatter(x_iris[:, 2], x_iris[:, 3], c=y_iris, cmap=pl.cm.PuOr, lw=0, s=30)\n",
    "plt.xlabel('Petal length')\n",
    "plt.ylabel('Petal width')\n",
    "pl.show()"
   ]
  },
  {
   "cell_type": "code",
   "execution_count": 15,
   "metadata": {},
   "outputs": [
    {
     "data": {
      "image/png": "[encoded data removed]",
      "text/plain": [
       "<matplotlib.figure.Figure at 0x7f5d836c5b00>"
      ]
     },
     "metadata": {},
     "output_type": "display_data"
    },
    {
     "name": "stdout",
     "output_type": "stream",
     "text": [
      "Adjusted Rand index for iris is: 1.00\n"
     ]
    }
   ],
   "source": [
    "pred_iris = Clustering(k=2, random_state=2).fit_predict(x_iris)\n",
    "\n",
    "pl.figure(figsize=(10, 5))\n",
    "\n",
    "pl.subplot(1, 2, 1)\n",
    "pl.scatter(x_iris[:, 0], x_iris[:, 1], c=pred_iris, cmap=pl.cm.PuOr, lw=0, s=30)\n",
    "plt.xlabel('Sepal length')\n",
    "plt.ylabel('Sepal width')\n",
    "\n",
    "pl.subplot(1, 2, 2)\n",
    "pl.scatter(x_iris[:, 2], x_iris[:, 3], c=pred_iris, cmap=pl.cm.PuOr, lw=0, s=30)\n",
    "plt.xlabel('Petal length')\n",
    "plt.ylabel('Petal width')\n",
    "pl.show()\n",
    "\n",
    "print(\"Adjusted Rand index for iris is: %.2f\" % smt.adjusted_rand_score(y_iris, pred_iris))"
   ]
  },
  {
   "cell_type": "code",
   "execution_count": 7,
   "metadata": {},
   "outputs": [
    {
     "name": "stdout",
     "output_type": "stream",
     "text": [
      "My implementation: 3.5163860489992658\n",
      "Scikit-learn implementation: 0.9926174679967517\n"
     ]
    }
   ],
   "source": [
    "import timeit\n",
    "from sklearn.mixture import GaussianMixture\n",
    "\n",
    "print(\"My implementation:\", timeit.timeit(\"Clustering(k=2).fit_predict(x_iris)\", number=100, globals={\"Clustering\": Clustering, \"x_iris\": x_iris}))\n",
    "print(\"Scikit-learn implementation:\", timeit.timeit(\"Clustering(n_components=2).fit(x_iris).predict(x_iris)\", number=100, globals={\"Clustering\": GaussianMixture, \"x_iris\": x_iris}))"
   ]
  },
  {
   "cell_type": "markdown",
   "metadata": {},
   "source": [
    "Видно, что классы разделяются, поэтому можно надеяться, что наш алгоритм \"найдет\" кластеры, соответствующие исходным классам. Результат работы реализованного алгоритма кластеризации предлагается сравнить с эталонной кластеризацией. Для этого предлагается изучить метрику ([adjusted rand score](http://scikit-learn.org/stable/modules/generated/sklearn.metrics.adjusted_rand_score.html)). В случае если значение этой метрики отличается от 1, предлагается поработать над улучшением реализации своего алгоритма."
   ]
  },
  {
   "cell_type": "markdown",
   "metadata": {},
   "source": [
    "Выбрать и реализовать критерий качества, на основании которого будут подбираться параметры модели. Варианты критериев:\n",
    "- Инерция (сумма квадратов расстояний от каждой из точек до ближайшего к этой точке центроида)\n",
    "- Средний диаметр (максимальное расстояние между точками в кластере) или радиус (расстояние от центроида до самой дальней от него точки в кластере)\n",
    "- Sihouette\n",
    "\n",
    "**Критерий качества необходимо выбрать таким образом, чтобы он подходил для реализованного алгоритма**"
   ]
  },
  {
   "cell_type": "code",
   "execution_count": 8,
   "metadata": {
    "collapsed": true
   },
   "outputs": [],
   "source": [
    "## Задание 2\n",
    "def inertion(X, y):\n",
    "    \"\"\"\n",
    "    Implement quality criterion of your choice\n",
    "    \"\"\"\n",
    "    loss = 0\n",
    "    X = np.array(X)\n",
    "    X -= X.mean(axis=0)\n",
    "    X /= X.std(axis=0)\n",
    "    for label in range(y.max() + 1):\n",
    "        cluster = X[y == label]\n",
    "        if cluster.shape[0] > 0:\n",
    "            # print(cluster - cluster.mean(axis=0))\n",
    "            loss += ((cluster - cluster.mean(axis=0)) ** 2).mean()\n",
    "    return loss"
   ]
  },
  {
   "cell_type": "markdown",
   "metadata": {},
   "source": [
    "Применим критерий для выбора параметров алгоритма. Предлагается изменить следующий код таким образом, чтобы кластеризация вызывалась с верным набором параметров. На графике можно будет увидеть зависимость критерия от параметров алгоритма. Необходимо выбрать оптимальные значения этих параметров."
   ]
  },
  {
   "cell_type": "code",
   "execution_count": 9,
   "metadata": {},
   "outputs": [
    {
     "data": {
      "image/png": "[encoded data removed]",
      "text/plain": [
       "<matplotlib.figure.Figure at 0x7f5d83711780>"
      ]
     },
     "metadata": {},
     "output_type": "display_data"
    }
   ],
   "source": [
    "ks = range(1, 21)\n",
    "criteria = np.zeros(len(ks))\n",
    "\n",
    "for i, k in enumerate(ks):\n",
    "    criteria[i] = +inf\n",
    "    for random_state in range(10):\n",
    "        cls = Clustering(k, random_state=random_state)\n",
    "        y = cls.fit_predict(x_iris)\n",
    "        criteria[i] = min(inertion(x_iris, y), criteria[i])\n",
    "    \n",
    "pl.figure(figsize=(8, 6))\n",
    "pl.plot(ks, criteria)\n",
    "pl.title(\"$J(k)$\")\n",
    "pl.ylabel(\"Criteria $J$\")\n",
    "pl.xlabel(\"Number of clusters $k$\")\n",
    "pl.xticks(ks)\n",
    "pl.grid()\n",
    "pl.show()"
   ]
  },
  {
   "cell_type": "code",
   "execution_count": 10,
   "metadata": {
    "collapsed": true
   },
   "outputs": [],
   "source": [
    "## Задание 3\n",
    "countries = pd.read_csv(\"WDIData.csv\")\n",
    "data = countries.pivot_table(values=\"2010\", index=[\"Country Name\"], columns=[\"Indicator Name\"])\n",
    "data = data.fillna(data.median())\n",
    "data = data.loc[:, data.std() > 0]\n",
    "X_countries = data.values\n",
    "countries_labels = data.index.values"
   ]
  },
  {
   "cell_type": "code",
   "execution_count": 11,
   "metadata": {},
   "outputs": [
    {
     "data": {
      "image/png": "[encoded data removed]",
      "text/plain": [
       "<matplotlib.figure.Figure at 0x7f5d838640f0>"
      ]
     },
     "metadata": {},
     "output_type": "display_data"
    }
   ],
   "source": [
    "from sklearn.feature_selection import VarianceThreshold\n",
    "from sklearn.decomposition import PCA\n",
    "\n",
    "ks = range(2, 21)\n",
    "criteria = np.zeros(len(ks))\n",
    "\n",
    "np.random.seed(45)\n",
    "\n",
    "X_countries = data.values\n",
    "X_countries = PCA(n_components=10).fit_transform(X_countries)\n",
    "\n",
    "ks = range(1, 21)\n",
    "criteria = np.zeros(len(ks))\n",
    "\n",
    "for i, k in enumerate(ks):\n",
    "    criteria[i] = +inf\n",
    "    for random_state in range(10):\n",
    "        cls = Clustering(k, random_state=random_state)\n",
    "        y = cls.fit_predict(X_countries)\n",
    "        criteria[i] = min(inertion(X_countries, y), criteria[i])\n",
    "    \n",
    "pl.figure(figsize=(8, 6))\n",
    "pl.plot(ks, criteria)\n",
    "pl.title(\"$J(k)$\")\n",
    "pl.ylabel(\"Criteria $J$\")\n",
    "pl.xlabel(\"Number of clusters $k$\")\n",
    "pl.xticks(ks)\n",
    "pl.grid()\n",
    "pl.show()"
   ]
  },
  {
   "cell_type": "code",
   "execution_count": 12,
   "metadata": {
    "collapsed": true
   },
   "outputs": [],
   "source": [
    "best_criteria = +inf\n",
    "for random_state in range(10):\n",
    "    cls = Clustering(k=7, random_state=random_state)\n",
    "    y = cls.fit_predict(X_countries)\n",
    "    criteria = inertion(X_countries, y)\n",
    "    if criteria < best_criteria:\n",
    "        best_criteria = criteria\n",
    "        data.loc[:, \"Cluster index\"] = y"
   ]
  },
  {
   "cell_type": "code",
   "execution_count": 13,
   "metadata": {},
   "outputs": [
    {
     "data": {
      "image/png": "[encoded data removed]",
      "text/plain": [
       "<matplotlib.figure.Figure at 0x7f5d827be400>"
      ]
     },
     "metadata": {},
     "output_type": "display_data"
    }
   ],
   "source": [
    "from sklearn.manifold import TSNE\n",
    "\n",
    "coords = TSNE(n_components=2, init='pca', random_state=0).fit_transform(X_countries)\n",
    "\n",
    "for i in range(7):\n",
    "    _c = coords[data[\"Cluster index\"].values == i]\n",
    "    plt.scatter(_c[:, 0], _c[:, 1])"
   ]
  },
  {
   "cell_type": "code",
   "execution_count": 14,
   "metadata": {},
   "outputs": [
    {
     "name": "stdout",
     "output_type": "stream",
     "text": [
      "0\n",
      "Afghanistan\n",
      "Albania\n",
      "American Samoa\n",
      "Andorra\n",
      "Antigua and Barbuda\n",
      "Arab World\n",
      "Argentina\n",
      "Armenia\n",
      "Aruba\n",
      "Australia\n",
      "Austria\n",
      "Azerbaijan\n",
      "Bahamas, The\n",
      "Bahrain\n",
      "Barbados\n",
      "Belarus\n",
      "Belgium\n",
      "Belize\n",
      "Benin\n",
      "Bermuda\n",
      "Bhutan\n",
      "Bolivia\n",
      "Bosnia and Herzegovina\n",
      "Botswana\n",
      "British Virgin Islands\n",
      "Brunei Darussalam\n",
      "Bulgaria\n",
      "Burkina Faso\n",
      "Burundi\n",
      "Cabo Verde\n",
      "Canada\n",
      "Caribbean small states\n",
      "Cayman Islands\n",
      "Central African Republic\n",
      "Central Europe and the Baltics\n",
      "Channel Islands\n",
      "Comoros\n",
      "Croatia\n",
      "Cuba\n",
      "Curacao\n",
      "Cyprus\n",
      "Czech Republic\n",
      "Denmark\n",
      "Djibouti\n",
      "Dominica\n",
      "Dominican Republic\n",
      "Early-demographic dividend\n",
      "East Asia & Pacific (IDA & IBRD countries)\n",
      "East Asia & Pacific (excluding high income)\n",
      "Ecuador\n",
      "Egypt, Arab Rep.\n",
      "El Salvador\n",
      "Eritrea\n",
      "Estonia\n",
      "Ethiopia\n",
      "Europe & Central Asia (IDA & IBRD countries)\n",
      "Europe & Central Asia (excluding high income)\n",
      "Faroe Islands\n",
      "Fiji\n",
      "Finland\n",
      "Fragile and conflict affected situations\n",
      "France\n",
      "French Polynesia\n",
      "Gambia, The\n",
      "Georgia\n",
      "Germany\n",
      "Ghana\n",
      "Gibraltar\n",
      "Greece\n",
      "Greenland\n",
      "Grenada\n",
      "Guam\n",
      "Guatemala\n",
      "Guinea-Bissau\n",
      "Guyana\n",
      "Haiti\n",
      "Heavily indebted poor countries (HIPC)\n",
      "Honduras\n",
      "IDA blend\n",
      "IDA only\n",
      "IDA total\n",
      "Iceland\n",
      "Ireland\n",
      "Isle of Man\n",
      "Israel\n",
      "Italy\n",
      "Jamaica\n",
      "Jordan\n",
      "Kenya\n",
      "Kiribati\n",
      "Korea, Dem. People’s Rep.\n",
      "Kosovo\n",
      "Kuwait\n",
      "Kyrgyz Republic\n",
      "Late-demographic dividend\n",
      "Latin America & Caribbean\n",
      "Latin America & Caribbean (excluding high income)\n",
      "Latin America & the Caribbean (IDA & IBRD countries)\n",
      "Latvia\n",
      "Least developed countries: UN classification\n",
      "Lesotho\n",
      "Liberia\n",
      "Libya\n",
      "Liechtenstein\n",
      "Lithuania\n",
      "Low income\n",
      "Lower middle income\n",
      "Luxembourg\n",
      "Macao SAR, China\n",
      "Macedonia, FYR\n",
      "Malawi\n",
      "Malaysia\n",
      "Maldives\n",
      "Mali\n",
      "Malta\n",
      "Marshall Islands\n",
      "Mauritania\n",
      "Mauritius\n",
      "Micronesia, Fed. Sts.\n",
      "Middle East & North Africa\n",
      "Middle East & North Africa (IDA & IBRD countries)\n",
      "Middle East & North Africa (excluding high income)\n",
      "Moldova\n",
      "Monaco\n",
      "Montenegro\n",
      "Morocco\n",
      "Mozambique\n",
      "Namibia\n",
      "Nauru\n",
      "Nepal\n",
      "Netherlands\n",
      "New Caledonia\n",
      "New Zealand\n",
      "Nicaragua\n",
      "Niger\n",
      "Northern Mariana Islands\n",
      "Norway\n",
      "Not classified\n",
      "Oman\n",
      "Other small states\n",
      "Pacific island small states\n",
      "Palau\n",
      "Panama\n",
      "Papua New Guinea\n",
      "Peru\n",
      "Poland\n",
      "Portugal\n",
      "Pre-demographic dividend\n",
      "Puerto Rico\n",
      "Qatar\n",
      "Romania\n",
      "Rwanda\n",
      "Samoa\n",
      "San Marino\n",
      "Senegal\n",
      "Serbia\n",
      "Seychelles\n",
      "Singapore\n",
      "Sint Maarten (Dutch part)\n",
      "Slovak Republic\n",
      "Slovenia\n",
      "Small states\n",
      "Solomon Islands\n",
      "Somalia\n",
      "South Africa\n",
      "South Asia\n",
      "South Asia (IDA & IBRD)\n",
      "South Sudan\n",
      "Spain\n",
      "St. Kitts and Nevis\n",
      "St. Lucia\n",
      "St. Martin (French part)\n",
      "St. Vincent and the Grenadines\n",
      "Sub-Saharan Africa\n",
      "Sub-Saharan Africa (IDA & IBRD countries)\n",
      "Sub-Saharan Africa (excluding high income)\n",
      "Sudan\n",
      "Suriname\n",
      "Swaziland\n",
      "Sweden\n",
      "Switzerland\n",
      "Syrian Arab Republic\n",
      "Tajikistan\n",
      "Timor-Leste\n",
      "Togo\n",
      "Tonga\n",
      "Trinidad and Tobago\n",
      "Tunisia\n",
      "Turkey\n",
      "Turkmenistan\n",
      "Turks and Caicos Islands\n",
      "Tuvalu\n",
      "Ukraine\n",
      "United Arab Emirates\n",
      "United Kingdom\n",
      "Upper middle income\n",
      "Uruguay\n",
      "Vanuatu\n",
      "Venezuela, RB\n",
      "Virgin Islands (U.S.)\n",
      "West Bank and Gaza\n",
      "Zambia\n",
      "Zimbabwe\n",
      "======\n",
      "1\n",
      "Indonesia\n",
      "======\n",
      "2\n",
      "East Asia & Pacific\n",
      "Euro area\n",
      "Europe & Central Asia\n",
      "European Union\n",
      "High income\n",
      "IBRD only\n",
      "IDA & IBRD total\n",
      "Low & middle income\n",
      "Middle income\n",
      "North America\n",
      "OECD members\n",
      "Post-demographic dividend\n",
      "United States\n",
      "World\n",
      "======\n",
      "3\n",
      "Algeria\n",
      "Angola\n",
      "Bangladesh\n",
      "Brazil\n",
      "Cameroon\n",
      "Chad\n",
      "Chile\n",
      "Congo, Dem. Rep.\n",
      "Congo, Rep.\n",
      "Costa Rica\n",
      "Cote d'Ivoire\n",
      "Equatorial Guinea\n",
      "Gabon\n",
      "Guinea\n",
      "Hong Kong SAR, China\n",
      "Hungary\n",
      "Kazakhstan\n",
      "Lao PDR\n",
      "Lebanon\n",
      "Madagascar\n",
      "Mexico\n",
      "Mongolia\n",
      "Myanmar\n",
      "Nigeria\n",
      "Pakistan\n",
      "Philippines\n",
      "Russian Federation\n",
      "Sao Tome and Principe\n",
      "Saudi Arabia\n",
      "Sierra Leone\n",
      "Sri Lanka\n",
      "Tanzania\n",
      "Thailand\n",
      "Uganda\n",
      "Yemen, Rep.\n",
      "======\n",
      "4\n",
      "Cambodia\n",
      "China\n",
      "Colombia\n",
      "India\n",
      "Iran, Islamic Rep.\n",
      "Iraq\n",
      "Paraguay\n",
      "Uzbekistan\n",
      "Vietnam\n",
      "======\n",
      "5\n",
      "Korea, Rep.\n",
      "======\n",
      "6\n",
      "Japan\n",
      "======\n"
     ]
    }
   ],
   "source": [
    "for group, elems in data.groupby(\"Cluster index\"):\n",
    "    print(group)\n",
    "    print(*elems.index, sep=\"\\n\") # .loc[:, \"Country Name\"])\n",
    "    print(\"======\")"
   ]
  },
  {
   "cell_type": "markdown",
   "metadata": {
    "collapsed": true
   },
   "source": [
    "## Задание 4\n",
    "\n",
    "Страны разделились на следующие кластеры:\n",
    "    \n",
    "1. Более развитые страны.\n",
    "2. Класс-выброс.\n",
    "3. Усредненные значения по странам.\n",
    "4. Медленно развивающиеся страны.\n",
    "5. Очень быстро развивающиеся страны.\n",
    "6. Класс-выброс.\n",
    "7. Класс-выброс."
   ]
  },
  {
   "cell_type": "markdown",
   "metadata": {},
   "source": [
    "Поздравляем, Вы завершили домашние задания по модулю \"Алгоритмы кластеризации\". Надеемся, что это было интересно."
   ]
  }
 ],
 "metadata": {
  "kernelspec": {
   "display_name": "Python 3",
   "language": "python",
   "name": "python3"
  },
  "language_info": {
   "codemirror_mode": {
    "name": "ipython",
    "version": 3
   },
   "file_extension": ".py",
   "mimetype": "text/x-python",
   "name": "python",
   "nbconvert_exporter": "python",
   "pygments_lexer": "ipython3",
   "version": "3.6.2"
  }
 },
 "nbformat": 4,
 "nbformat_minor": 1
}
